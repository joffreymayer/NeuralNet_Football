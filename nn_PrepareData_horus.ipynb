{
  "nbformat": 4,
  "nbformat_minor": 0,
  "metadata": {
    "colab": {
      "name": "nn_PrepareData_horus.ipynb",
      "provenance": [],
      "mount_file_id": "1f5Bh5Cf7rRwWo5jZ7TNfKIxFDDQdZH4i",
      "authorship_tag": "ABX9TyOfXQ+4h71AqOEMsNvQT6cX",
      "include_colab_link": true
    },
    "kernelspec": {
      "name": "python3",
      "display_name": "Python 3"
    },
    "language_info": {
      "name": "python"
    }
  },
  "cells": [
    {
      "cell_type": "markdown",
      "metadata": {
        "id": "view-in-github",
        "colab_type": "text"
      },
      "source": [
        "<a href=\"https://colab.research.google.com/github/joffreymayer/NeuralNet_Football/blob/main/nn_PrepareData_horus.ipynb\" target=\"_parent\"><img src=\"https://colab.research.google.com/assets/colab-badge.svg\" alt=\"Open In Colab\"/></a>"
      ]
    },
    {
      "cell_type": "code",
      "metadata": {
        "colab": {
          "base_uri": "https://localhost:8080/"
        },
        "id": "0SPnBGZHBWif",
        "outputId": "f118d835-545d-4371-c99e-e3565663495a"
      },
      "source": [
        "import numpy as np\n",
        "import pandas as pd\n",
        "from datetime import datetime as dt\n",
        "import itertools\n",
        "from google.colab import drive\n",
        "drive.mount('/content/drive')"
      ],
      "execution_count": 2,
      "outputs": [
        {
          "output_type": "stream",
          "text": [
            "Drive already mounted at /content/drive; to attempt to forcibly remount, call drive.mount(\"/content/drive\", force_remount=True).\n"
          ],
          "name": "stdout"
        }
      ]
    },
    {
      "cell_type": "code",
      "metadata": {
        "id": "idNxPlpTBwcG"
      },
      "source": [
        "path=\"/content/drive/My Drive/data/\" # der Pfad \"/content/drive/My_Drive\" ist Pflicht, sonst runnt der Code nicht.\n",
        "\n",
        "# loading the season match data for different leagues\n",
        "raw_bundesliga = pd.read_csv(path+\"bldata/bl_combined_csv.csv\")\n",
        "raw_premierleague = pd.read_csv(path+\"ukdata/uk_combined_csv.csv\")\n",
        "raw_seriea = pd.read_csv(path+\"itdata/it_combined_csv.csv\")\n",
        "raw_primeradivision = pd.read_csv(path+\"esdata/es_combined_csv.csv\")"
      ],
      "execution_count": 5,
      "outputs": []
    },
    {
      "cell_type": "code",
      "metadata": {
        "id": "cnjdAhsFMQ50"
      },
      "source": [
        ""
      ],
      "execution_count": null,
      "outputs": []
    }
  ]
}